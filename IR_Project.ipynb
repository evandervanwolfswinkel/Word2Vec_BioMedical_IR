{
  "nbformat": 4,
  "nbformat_minor": 0,
  "metadata": {
    "colab": {
      "name": "IR_Project.ipynb",
      "provenance": [],
      "collapsed_sections": []
    },
    "kernelspec": {
      "name": "python3",
      "display_name": "Python 3"
    },
    "language_info": {
      "name": "python"
    }
  },
  "cells": [
    {
      "cell_type": "code",
      "metadata": {
        "id": "F1_jmXHk3BOo"
      },
      "source": [
        "import pandas as pd\n",
        "from gensim import models\n",
        "import numpy as np\n",
        "from sklearn.metrics.pairwise import cosine_similarity"
      ],
      "execution_count": null,
      "outputs": []
    },
    {
      "cell_type": "code",
      "metadata": {
        "id": "cn4GfzwDvfX5",
        "colab": {
          "base_uri": "https://localhost:8080/"
        },
        "outputId": "f08bdfcb-f737-4055-b619-5d8c1ff374dc"
      },
      "source": [
        "\n",
        "## Get model GOOGLE\n",
        "!wget -c \"https://s3.amazonaws.com/dl4j-distribution/GoogleNews-vectors-negative300.bin.gz\"\n",
        "\n",
        "!gzip -d GoogleNews-vectors-negative300.bin.gz\n"
      ],
      "execution_count": null,
      "outputs": [
        {
          "output_type": "stream",
          "name": "stdout",
          "text": [
            "--2021-12-22 11:22:51--  https://s3.amazonaws.com/dl4j-distribution/GoogleNews-vectors-negative300.bin.gz\n",
            "Resolving s3.amazonaws.com (s3.amazonaws.com)... 52.217.229.96\n",
            "Connecting to s3.amazonaws.com (s3.amazonaws.com)|52.217.229.96|:443... connected.\n",
            "HTTP request sent, awaiting response... 200 OK\n",
            "Length: 1647046227 (1.5G) [application/x-gzip]\n",
            "Saving to: ‘GoogleNews-vectors-negative300.bin.gz’\n",
            "\n",
            "GoogleNews-vectors- 100%[===================>]   1.53G  16.1MB/s    in 1m 41s  \n",
            "\n",
            "2021-12-22 11:24:33 (15.6 MB/s) - ‘GoogleNews-vectors-negative300.bin.gz’ saved [1647046227/1647046227]\n",
            "\n"
          ]
        }
      ]
    },
    {
      "cell_type": "code",
      "source": [
        "## Get model PUBMED\n",
        "!wget http://evexdb.org/pmresources/vec-space-models/PubMed-w2v.bin                 "
      ],
      "metadata": {
        "colab": {
          "base_uri": "https://localhost:8080/"
        },
        "id": "7dPlcdDK6Dxi",
        "outputId": "ca4119c1-8504-49b7-90f7-239d67cd8a95"
      },
      "execution_count": null,
      "outputs": [
        {
          "output_type": "stream",
          "name": "stdout",
          "text": [
            "--2021-12-22 11:25:37--  http://evexdb.org/pmresources/vec-space-models/PubMed-w2v.bin\n",
            "Resolving evexdb.org (evexdb.org)... 130.232.253.13\n",
            "Connecting to evexdb.org (evexdb.org)|130.232.253.13|:80... connected.\n",
            "HTTP request sent, awaiting response... 200 OK\n",
            "Length: 1909156308 (1.8G) [application/octet-stream]\n",
            "Saving to: ‘PubMed-w2v.bin’\n",
            "\n",
            "PubMed-w2v.bin      100%[===================>]   1.78G  1.03MB/s    in 30m 57s \n",
            "\n",
            "2021-12-22 11:56:35 (1004 KB/s) - ‘PubMed-w2v.bin’ saved [1909156308/1909156308]\n",
            "\n"
          ]
        }
      ]
    },
    {
      "cell_type": "code",
      "source": [
        "## Get model GOOGLE\n",
        "model = models.KeyedVectors.load_word2vec_format(\n",
        "    'GoogleNews-vectors-negative300.bin', binary=True)"
      ],
      "metadata": {
        "id": "AWX5RDqPacGz"
      },
      "execution_count": null,
      "outputs": []
    },
    {
      "cell_type": "code",
      "source": [
        "## Get model PUBMED\n",
        "model = models.KeyedVectors.load_word2vec_format(\n",
        "    'PubMed-w2v.bin', binary=True)"
      ],
      "metadata": {
        "id": "0XJCNtufDk-j"
      },
      "execution_count": null,
      "outputs": []
    },
    {
      "cell_type": "code",
      "metadata": {
        "id": "265r7vjAxiwY",
        "colab": {
          "base_uri": "https://localhost:8080/"
        },
        "outputId": "a3bb61d7-926a-4c1b-df41-d0e7c4fbfda3"
      },
      "source": [
        "# Example of vector embeddings\n",
        "print(model.most_similar(\"enzyme\"))"
      ],
      "execution_count": null,
      "outputs": [
        {
          "output_type": "stream",
          "name": "stdout",
          "text": [
            "[('enzymes', 0.8458174467086792), ('proteins', 0.7815780639648438), ('protein', 0.7711474895477295), ('molecule', 0.7456475496292114), ('amino_acid', 0.7242652177810669), ('signaling_molecule', 0.7150980830192566), ('protease', 0.7113514542579651), ('enzymatic', 0.708735466003418), ('signaling_pathway', 0.7054683566093445), ('receptor', 0.6964517831802368)]\n"
          ]
        }
      ]
    },
    {
      "cell_type": "code",
      "metadata": {
        "id": "Fc6phbmDylVi",
        "colab": {
          "base_uri": "https://localhost:8080/"
        },
        "outputId": "c53fe5b8-5926-45de-c795-d8ddf9cae34a"
      },
      "source": [
        "## Get data\n",
        "!wget https://www.cl.uni-heidelberg.de/statnlpgroup/nfcorpus/nfcorpus.tar.gz\n",
        "!tar -xf nfcorpus.tar.gz"
      ],
      "execution_count": null,
      "outputs": [
        {
          "output_type": "stream",
          "name": "stdout",
          "text": [
            "--2021-12-22 11:58:29--  https://www.cl.uni-heidelberg.de/statnlpgroup/nfcorpus/nfcorpus.tar.gz\n",
            "Resolving www.cl.uni-heidelberg.de (www.cl.uni-heidelberg.de)... 147.142.207.78\n",
            "Connecting to www.cl.uni-heidelberg.de (www.cl.uni-heidelberg.de)|147.142.207.78|:443... connected.\n",
            "HTTP request sent, awaiting response... 200 OK\n",
            "Length: 31039523 (30M) [application/x-gzip]\n",
            "Saving to: ‘nfcorpus.tar.gz’\n",
            "\n",
            "nfcorpus.tar.gz     100%[===================>]  29.60M  6.61MB/s    in 4.5s    \n",
            "\n",
            "2021-12-22 11:58:36 (6.61 MB/s) - ‘nfcorpus.tar.gz’ saved [31039523/31039523]\n",
            "\n"
          ]
        }
      ]
    },
    {
      "cell_type": "code",
      "metadata": {
        "id": "mwcPH0vq1yfB"
      },
      "source": [
        "\n",
        "with open(\"/content/nfcorpus/test.docs\", 'r') as f:\n",
        "  test_docs = f.readlines()\n",
        "  f.close()\n",
        "\n",
        "with open(\"/content/nfcorpus/test.all.queries\", 'r') as f:\n",
        "  test_qeuries = f.readlines()\n",
        "  f.close()\n",
        "\n",
        "with open(\"/content/nfcorpus/test.titles.queries\", 'r') as f:\n",
        "  test__title_qeuries = f.readlines()\n",
        "  f.close()\n",
        "\n",
        "with open(\"/content/nfcorpus/test.2-1-0.qrel\", 'r') as f:\n",
        "  test_qrel = f.readlines()\n",
        "  f.close()"
      ],
      "execution_count": null,
      "outputs": []
    },
    {
      "cell_type": "code",
      "metadata": {
        "id": "5MSgJB7d9cF4"
      },
      "source": [
        "# Get dataframes\n",
        "df_t_docs = pd.DataFrame(test_docs)\n",
        "df_t_docs = df_t_docs[0].str.split('\\t', 1, expand=True)\n",
        "df_t_docs.columns =['doc_id', 'text']\n",
        "\n",
        "df_t_qeuries = pd.DataFrame(test_qeuries)\n",
        "df_t_qeuries = df_t_qeuries[0].str.split('\\t', 1, expand=True)\n",
        "df_t_qeuries.columns =['id', 'text']\n",
        "\n",
        "df__t_title_qeuries = pd.DataFrame(test__title_qeuries)\n",
        "df__t_title_qeuries = df__t_title_qeuries[0].str.split('\\t', 1, expand=True)\n",
        "df__t_title_qeuries.columns =['id', 'text']\n",
        "\n",
        "df_t_qrel = pd.DataFrame(test_qrel)\n",
        "df_t_qrel = df_t_qrel[0].str.split('\\t', 3, expand=True)\n",
        "df_t_qrel.columns =['q_id', 'whatever', 'doc_id', 'relevance']\n"
      ],
      "execution_count": null,
      "outputs": []
    },
    {
      "cell_type": "code",
      "source": [
        "# documents, queries and qrels\n",
        "print(df_t_docs)\n",
        "print(df__t_title_qeuries)\n",
        "print(df_t_qrel)"
      ],
      "metadata": {
        "colab": {
          "base_uri": "https://localhost:8080/"
        },
        "id": "Sai2IrQ_0FKl",
        "outputId": "e645d086-3395-42a8-90e6-0a7018ae3ab3"
      },
      "execution_count": null,
      "outputs": [
        {
          "output_type": "stream",
          "name": "stdout",
          "text": [
            "        doc_id                                               text\n",
            "0       MED-10  statin breast cancer survival nationwide cohor...\n",
            "1       MED-14  statin diagnosis breast cancer survival popula...\n",
            "2      MED-118  alkylphenols human milk relations dietary habi...\n",
            "3      MED-301  methylmercury potential environmental risk fac...\n",
            "4      MED-306  sensitivity continuous performance test cpt ag...\n",
            "...        ...                                                ...\n",
            "3157  MED-5345  years err human learned pubmed ncbi abstract y...\n",
            "3158  MED-5346  resident duty-hour restrictions-who protecting...\n",
            "3159  MED-5347  effects health care provider work hours sleep ...\n",
            "3160  MED-5360  fruit vegetable antioxidant intakes lower olde...\n",
            "3161  MED-5363  dietary patterns depressive symptoms japanese ...\n",
            "\n",
            "[3162 rows x 2 columns]\n",
            "             id                                   text\n",
            "0    PLAIN-1008                             deafness\\n\n",
            "1    PLAIN-1018                                  dha\\n\n",
            "2     PLAIN-102  stopping heart disease in childhood\\n\n",
            "3    PLAIN-1028                      dietary scoring\\n\n",
            "4    PLAIN-1039                          domoic acid\\n\n",
            "..          ...                                    ...\n",
            "320   PLAIN-956                      cooking methods\\n\n",
            "321   PLAIN-966                             cortisol\\n\n",
            "322   PLAIN-977                           crib death\\n\n",
            "323   PLAIN-987                                cumin\\n\n",
            "324   PLAIN-997                       czechoslovakia\\n\n",
            "\n",
            "[325 rows x 2 columns]\n",
            "             q_id whatever    doc_id relevance\n",
            "0         PLAIN-2        0  MED-2427       2\\n\n",
            "1         PLAIN-2        0    MED-10       2\\n\n",
            "2         PLAIN-2        0  MED-2429       2\\n\n",
            "3         PLAIN-2        0  MED-2430       2\\n\n",
            "4         PLAIN-2        0  MED-2431       2\\n\n",
            "...           ...      ...       ...       ...\n",
            "12329  PLAIN-3472        0  MED-3623       1\\n\n",
            "12330  PLAIN-3472        0  MED-3624       1\\n\n",
            "12331  PLAIN-3472        0  MED-3625       1\\n\n",
            "12332  PLAIN-3472        0  MED-3626       1\\n\n",
            "12333  PLAIN-3472        0  MED-3627       1\\n\n",
            "\n",
            "[12334 rows x 4 columns]\n"
          ]
        }
      ]
    },
    {
      "cell_type": "code",
      "source": [
        "# Iterator for scratch NFCorpus sentences\n",
        "class MySentences(object):\n",
        "    def __init__(self, filename):\n",
        "        self.filename = filename\n",
        " \n",
        "    def __iter__(self):\n",
        "        # for fname in os.listdir(self.dirname):\n",
        "          for line in open(self.filename):\n",
        "            yield line.split()[1:]"
      ],
      "metadata": {
        "id": "4ogpqng_YN8i"
      },
      "execution_count": null,
      "outputs": []
    },
    {
      "cell_type": "code",
      "source": [
        "from nltk.corpus import stopwords\n",
        "from nltk import download\n",
        "download('stopwords')  # Download stopwords list.\n",
        "stop_words = stopwords.words('english')"
      ],
      "metadata": {
        "colab": {
          "base_uri": "https://localhost:8080/"
        },
        "id": "c50TQDoBu0q-",
        "outputId": "4dc6ce5f-5b64-4865-9be6-fab0d2689f6e"
      },
      "execution_count": null,
      "outputs": [
        {
          "output_type": "stream",
          "name": "stdout",
          "text": [
            "[nltk_data] Downloading package stopwords to /root/nltk_data...\n",
            "[nltk_data]   Package stopwords is already up-to-date!\n"
          ]
        }
      ]
    },
    {
      "cell_type": "code",
      "source": [
        "# Load scratch trained model\n",
        "sentences = MySentences('/content/nfcorpus/train.docs') # a memory-friendly iterator\n",
        "model = models.Word2Vec(sentences)"
      ],
      "metadata": {
        "id": "jEhxAmmsYS7X"
      },
      "execution_count": null,
      "outputs": []
    },
    {
      "cell_type": "code",
      "source": [
        "def preprocess(sentence):\n",
        "    return [w for w in sentence.lower().split() if w not in stop_words]"
      ],
      "metadata": {
        "id": "-UJRJ6nytQug"
      },
      "execution_count": null,
      "outputs": []
    },
    {
      "cell_type": "code",
      "metadata": {
        "id": "jQRxldHzzpiy"
      },
      "source": [
        "# Get vector embeddings for pre-computation\n",
        "def get_embedding_w2v(doc_tokens, mean_embed):\n",
        "    embeddings = []\n",
        "    if len(doc_tokens)<1:\n",
        "        return np.zeros(300)\n",
        "    else:\n",
        "        for tok in doc_tokens:\n",
        "            if tok in model.wv.vocab:\n",
        "                embeddings.append(model.wv.word_vec(tok))\n",
        "            else:\n",
        "                embeddings.append(np.random.rand(100))\n",
        "        # mean the vectors of individual words to get the vector of the document\n",
        "\n",
        "        if mean_embed:\n",
        "          return np.mean(embeddings, axis=0)\n",
        "        return embeddings"
      ],
      "execution_count": null,
      "outputs": []
    },
    {
      "cell_type": "code",
      "source": [
        "# Compute cosine distance between vector of query and document centroid\n",
        "def compute_qw_dw_cosine(vector, doc_centroid):\n",
        "  similarities_qw_dw = []\n",
        "  for query_vector in vector:\n",
        "    similarity_qw_dw = cosine_similarity(np.array(query_vector).reshape(1, -1),np.array(doc_centroid).reshape(1, -1)).item()\n",
        "    similarities_qw_dw.append(similarity_qw_dw)\n",
        "\n",
        "  return sum(similarities_qw_dw)/len(similarities_qw_dw)\n",
        "\n",
        "# Get rankings from similarity metrics\n",
        "def get_document_rankings(df_t_docs_top, df__t_title_qeuries_top):\n",
        "  documents=df_t_docs_top[['doc_id']].copy()\n",
        "  query_doc_similarities = []\n",
        "  for ind in df__t_title_qeuries_top.index:\n",
        "    qid = df__t_title_qeuries_top['id'][ind]\n",
        "    vector = df__t_title_qeuries_top['vector'][ind]\n",
        "\n",
        "    # Compute cosine\n",
        "    # documents['similarity']=df_t_docs_top['vector'].apply(lambda x: compute_qw_dw_cosine(vector,x))\n",
        "\n",
        "    # Compute WMD\n",
        "    documents['similarity']=df_t_docs_top['vector'].apply(lambda x: model.wmdistance(vector, x))\n",
        "\n",
        "    documents.sort_values(by='similarity',ascending=True,inplace=True)\n",
        "    index = 0\n",
        "    for doc_index in documents.index:\n",
        "      index+=1\n",
        "      if index == 100:\n",
        "        break\n",
        "      else:\n",
        "        doc_id = documents['doc_id'][doc_index]\n",
        "        similarity = documents['similarity'][doc_index]\n",
        "        query_doc_similarities.append([qid,doc_id,similarity])\n",
        "\n",
        "  return query_doc_similarities\n",
        "  \n"
      ],
      "metadata": {
        "id": "aQPOKxjaW1U-"
      },
      "execution_count": null,
      "outputs": []
    },
    {
      "cell_type": "code",
      "source": [
        "import warnings\n",
        "warnings.filterwarnings(\"ignore\", category=DeprecationWarning) \n",
        "\n",
        "\n",
        "\n",
        "## PERFORM RERANKING\n",
        "\n",
        "bm25_topdocs = pd.read_csv(\"./BM25_baseline.csv\", header=None) # BM25 results\n",
        "bm25_topdocs=bm25_topdocs.groupby(0,as_index=False).agg({1:list})\n",
        "bm25_topdocs_dict = bm25_topdocs.set_index(0).T.to_dict()\n",
        "\n",
        "query_doc_sim_list_full = []\n",
        "for key, value in bm25_topdocs_dict.items():\n",
        "  # Get vectors\n",
        "  # queryvector = get_embedding_w2v(preprocess(df__t_title_qeuries.loc[df__t_title_qeuries[\"id\"] == key][\"text\"].values[0]), mean_embed = False)\n",
        "  \n",
        "  # Get words\n",
        "  queryvector = preprocess(df__t_title_qeuries.loc[df__t_title_qeuries[\"id\"] == key][\"text\"].values[0])\n",
        "\n",
        "\n",
        "  docsid = list(value.values())[0]\n",
        "  df_docs_vectors = []\n",
        "  for id in docsid:\n",
        "    # Get vectors\n",
        "    # docvector = get_embedding_w2v(preprocess(df_t_docs.loc[df_t_docs[\"doc_id\"] == id][\"text\"].values[0]), mean_embed = True)\n",
        "\n",
        "    # Get words\n",
        "    docvector = preprocess(df_t_docs.loc[df_t_docs[\"doc_id\"] == id][\"text\"].values[0])\n",
        "\n",
        "    df_docs_vectors.append([id,docvector])\n",
        "\n",
        "  df_t_docs_top = pd.DataFrame(df_docs_vectors, columns=[\"doc_id\", \"vector\"])\n",
        "  df__t_title_qeuries_top = pd.DataFrame([[key, queryvector]], columns=[\"id\", \"vector\"])\n",
        "  query_doc_sim_list = get_document_rankings(df_t_docs_top, df__t_title_qeuries_top)\n",
        "  for q_d_s_list in query_doc_sim_list:\n",
        "    query_doc_sim_list_full.append(q_d_s_list)\n",
        "\n",
        "\n",
        "print(query_doc_sim_list_full)\n",
        "\n",
        "query_doc_similarities_df = pd.DataFrame(query_doc_sim_list_full, columns=[\"q_id\", \"doc_id\",\"similarity\"])\n",
        "\n",
        "query_doc_similarities_df.head()\n",
        "\n",
        "query_doc_similarities_df.to_csv('Scratch_WMD_reranked.csv',index=False, header = False) # Save model"
      ],
      "metadata": {
        "id": "ij6rCen-JkXl"
      },
      "execution_count": null,
      "outputs": []
    },
    {
      "cell_type": "code",
      "source": [
        "\n",
        "# Load qrel\n",
        "with open(\"/content/nfcorpus/test.2-1-0.qrel\", \"r\") as f:\n",
        "  contents = f.read()\n",
        "  f.close()\n",
        "contents = [x.split(\"\\t\") for x in contents.split(\"\\n\")]\n",
        "qrel = {}\n",
        "\n",
        "for i in range(len(contents)):\n",
        "  if len(contents[i]) == 4:\n",
        "    if contents[i][0] not in qrel:\n",
        "      qrel[contents[i][0]] = {\"docs\":[], \"doc_scores\": []}\n",
        "      qrel[contents[i][0]][\"docs\"].append(contents[i][2])\n",
        "      qrel[contents[i][0]][\"doc_scores\"].append(contents[i][3])\n",
        "    else:\n",
        "      qrel[contents[i][0]][\"docs\"].append(contents[i][2])\n",
        "      qrel[contents[i][0]][\"doc_scores\"].append(contents[i][3])"
      ],
      "metadata": {
        "id": "w_SCUOQ5gane"
      },
      "execution_count": null,
      "outputs": []
    },
    {
      "cell_type": "code",
      "source": [
        "import numpy as np\n",
        "import math\n",
        "\n",
        "# QREL parsing and query_label processing\n",
        "\n",
        "def parse_qrel_line(line):\n",
        "    query, _, document, relevancy = [x.strip() for x in line.split()]\n",
        "    query = str(query)\n",
        "    relevancy = int(relevancy)\n",
        "    return query, document, relevancy\n",
        "\n",
        "def parse_results_line(line):\n",
        "    query, document, score = [x.strip() for x in line.split(\",\")]\n",
        "    query = str(query)\n",
        "    score = float(score)\n",
        "    return query, document, score\n",
        "\n",
        "relevancies = {}\n",
        "with open(\"/content/nfcorpus/test.2-1-0.qrel\", 'r') as qrel_file:\n",
        "    for line in qrel_file:\n",
        "        query, document, relevancy = parse_qrel_line(line)\n",
        "        if query not in relevancies:\n",
        "            relevancies[query] = {document: relevancy}\n",
        "        else:\n",
        "            relevancies[query][document] = relevancy\n",
        "print(relevancies)\n",
        "\n",
        "def query_labels_from_file(path, max_query_length):\n",
        "    with open(path, 'r') as results_file:\n",
        "        rank = 1\n",
        "        current_query, document, score = parse_results_line(next(results_file))\n",
        "        try:\n",
        "          label = relevancies[current_query][document]\n",
        "          \n",
        "        except:\n",
        "          label = 0\n",
        "        rank_label_list = [(rank, label)]\n",
        "        for line in results_file:\n",
        "            query, document, score = parse_results_line(line)\n",
        "            \n",
        "            query_list = preprocess(df__t_title_qeuries.loc[df__t_title_qeuries[\"id\"] == query][\"text\"].values[0])\n",
        "            if len(query_list) == max_query_length:\n",
        "              rank += 1\n",
        "              if query != current_query:\n",
        "                  rank = 1\n",
        "                  sorted_labels = [x[1] for x in sorted(rank_label_list)]\n",
        "                  yield np.array(sorted_labels, dtype=np.int32)\n",
        "                  current_query = query\n",
        "                  rank_label_list = []\n",
        "              try:\n",
        "                label = relevancies[query][document]\n",
        "              except:\n",
        "                label = 0\n",
        "              rank_label_list.append((rank, label))\n",
        "        sorted_labels = [x[1] for x in sorted(rank_label_list)]\n",
        "        yield np.array(sorted_labels, dtype=np.int32)\n",
        "    "
      ],
      "metadata": {
        "id": "wFYgzyQPgbXG"
      },
      "execution_count": null,
      "outputs": []
    },
    {
      "cell_type": "code",
      "source": [
        "\n",
        "# Evaluation metrics\n",
        "def precision(query_relevancy_labels, k):\n",
        "  query_amount = len(query_relevancy_labels)\n",
        "  scores = []\n",
        "  for query in query_relevancy_labels:\n",
        "    print(query)\n",
        "    relevant_amount = np.count_nonzero(query[0:k])\n",
        "    score = relevant_amount / k\n",
        "    scores.append(score)\n",
        "    return (1/query_amount) * sum(scores)\n",
        "def recall(query_relevancy_labels, k):\n",
        "  query_amount = len(query_relevancy_labels)\n",
        "  scores = []\n",
        "  for query in query_relevancy_labels:\n",
        "    relevant_amount = np.count_nonzero(query[0:k])\n",
        "    if np.count_nonzero(query) == 0:\n",
        "      score = 0\n",
        "    else:\n",
        "      score = relevant_amount / np.count_nonzero(query)\n",
        "      scores.append(score)\n",
        "    return (1/query_amount) * sum(scores)\n",
        "def F_score(query_relevancy_labels, k):\n",
        "  query_amount = len(query_relevancy_labels)\n",
        "  scores = []\n",
        "  for query in query_relevancy_labels:\n",
        "    precision_k = precision(np.array([query]), k)\n",
        "    recall_k = recall(np.array([query]), k)\n",
        "    denominator = (precision_k+recall_k)\n",
        "    if denominator == 0.0:\n",
        "      F_score = 0\n",
        "      scores.append(F_score)\n",
        "    else:\n",
        "      F_score = 2(precision_krecall_k) / denominator\n",
        "      scores.append(F_score)\n",
        "\n",
        "def DCG(query_relevancy_labels, k):\n",
        "  score_list = []\n",
        "  for query, labels in enumerate(query_relevancy_labels):\n",
        "    temp = []\n",
        "    for i in range(min(k, labels.size)):\n",
        "      temp.append(labels[i]/math.log(2+i, 2))\n",
        "    score_list.append(sum(temp))\n",
        "  return sum(score_list)/len(score_list)\n",
        "\n",
        "def NDCG(query_relevancy_labels, k):\n",
        "  \n",
        "  score_list = []\n",
        "  for query, labels in enumerate(query_relevancy_labels):\n",
        "    temp = []\n",
        "    for i in range(min(k, labels.size)):\n",
        "      temp.append(labels[i]/math.log(2+i, 2))\n",
        "    dcg = sum(temp)\n",
        "\n",
        "    relevant = list(filter(lambda x: x == 2 or x == 1, labels))\n",
        "    temp = []\n",
        "    for i in range(min(k, len(relevant))):\n",
        "      temp.append(1/math.log(2+i, 2))\n",
        "    idcg = sum(temp)\n",
        "    try:\n",
        "      score_list.append(float(dcg)/float(idcg))\n",
        "    except:\n",
        "      score_list.append(0)\n",
        "  return sum(score_list)/len(score_list)\n",
        "\n",
        "def MAP(query_relevancy_labels):\n",
        "  score_list = []\n",
        "  for query, labels in enumerate(query_relevancy_labels):\n",
        "    temp = []\n",
        "    for k in range(len(labels)):\n",
        "      temp.append(labels[k]*sum(labels[:k+1])/(k+1))\n",
        "    try:\n",
        "      score_list.append(float(sum(temp))/float(sum(labels)))\n",
        "    except:\n",
        "      score_list.append(0)\n",
        "  return sum(score_list)/len(score_list)\n",
        "\n",
        "def MRR(query_relevancy_labels):\n",
        "  score_list = []\n",
        "  for query, labels in enumerate(query_relevancy_labels):\n",
        "    try:\n",
        "      score_list.append(1/(list(labels).index(2)+list(labels).index(1)+1))\n",
        "    except:\n",
        "      score_list.append(0)\n",
        "  return sum(score_list)/len(score_list)"
      ],
      "metadata": {
        "id": "mktOWEspgf01"
      },
      "execution_count": null,
      "outputs": []
    },
    {
      "cell_type": "code",
      "source": [
        "import glob\n",
        "import os\n",
        "\n",
        "# Evaluate model using evaluation metrics and plot results\n",
        "\n",
        "\n",
        "def evaluate(path=None):\n",
        "    max_query_length = 2\n",
        "    query_labels = list(query_labels_from_file(path,max_query_length))    \n",
        "    return {\n",
        "        'NDCG@1': NDCG(query_labels, 1),\n",
        "        'NDCG@5': NDCG(query_labels, 5),\n",
        "        'NDCG@10': NDCG(query_labels, 10),\n",
        "        'NDCG@25': NDCG(query_labels, 25),\n",
        "        'MAP': MAP(query_labels),\n",
        "        'MRR': MRR(query_labels),\n",
        "    }\n",
        "\n",
        "def plot(dicts, names):\n",
        "  import numpy as np \n",
        "  import matplotlib.pyplot as plt \n",
        "  from matplotlib.pyplot import figure\n",
        "  eval1 = dicts[0]\n",
        "  eval2 = dicts[1]\n",
        "  eval3 = dicts[2]\n",
        "  eval4 = dicts[3]\n",
        "  eval5 = dicts[4]\n",
        "  eval6 = dicts[5]\n",
        "  eval7 = dicts[6]\n",
        "  \n",
        "  eval = {}\n",
        "  evallist1, evallist2, evallist3, evallist4, evallist5, evallist6, evallist7 , evallist8, evallist9 = [], [], [], [], [], [], [], [], []\n",
        "  for key in eval1.keys():\n",
        "    evallist1.append(eval1[key])\n",
        "    evallist2.append(eval2[key])\n",
        "    evallist3.append(eval3[key])\n",
        "    evallist4.append(eval4[key])\n",
        "    evallist5.append(eval5[key])\n",
        "    evallist6.append(eval6[key])\n",
        "    evallist7.append(eval7[key])\n",
        "\n",
        "\n",
        "  figure(figsize=(20, 8), dpi=80)\n",
        "\n",
        "  X = eval1.keys()\n",
        "\n",
        "  X_axis = np.arange(len(X))\n",
        "  names = [x.split(\"/\")[-1][:-4] for x in names]\n",
        "  width = 0.05\n",
        "  plt.bar(X_axis - 3*width, evallist1, width, label = names[0])\n",
        "  plt.bar(X_axis - 2*width, evallist2, width, label = names[1])\n",
        "  plt.bar(X_axis - 1*width, evallist3, width, label = names[2])\n",
        "  plt.bar(X_axis, evallist4, width, label = names[3])\n",
        "  plt.bar(X_axis + 1*width, evallist5, width, label = names[4])\n",
        "  plt.bar(X_axis + 2*width, evallist6, width, label = names[5])\n",
        "  plt.bar(X_axis + 3*width, evallist7, width, label = names[6])\n",
        "\n",
        "  plt.xticks(X_axis, X, rotation=45)\n",
        "  plt.xlabel(\"Metric\")\n",
        "  plt.ylabel(\"Metric score\")\n",
        "  plt.title(\"Metric scores per method on the test data\")\n",
        "  plt.legend()\n",
        "  plt.savefig(\"/content/plot.png\", dpi=300)\n",
        "\n",
        "if not os.path.isdir(\"/content/plots/\"):\n",
        "  os.mkdir(\"/content/plots/\")\n",
        "out = []\n",
        "\n",
        "files = glob.glob(\"/content/*.csv\")\n",
        "\n",
        "for item in files:\n",
        "  out.append(evaluate(item))\n",
        "plot(out, files)"
      ],
      "metadata": {
        "id": "vxhSaKpZjaI4"
      },
      "execution_count": null,
      "outputs": []
    },
    {
      "cell_type": "code",
      "source": [
        "!pip install matplotlib --upgrade"
      ],
      "metadata": {
        "id": "rk72WwzkBzHm"
      },
      "execution_count": null,
      "outputs": []
    },
    {
      "cell_type": "code",
      "source": [
        "import numpy as np \n",
        "import matplotlib.pyplot as plt \n",
        "from matplotlib.pyplot import figure\n",
        "import glob\n",
        "import os\n",
        "\n",
        "# Compute evaluation metrics for different query lengths\n",
        "\n",
        "def evaluate_query_length(path=None, max_query_length=1):\n",
        "  query_labels = list(query_labels_from_file(path,max_query_length))\n",
        "  return MAP(query_labels)\n",
        "\n",
        "lengths = [1,2,3,4,5,6,7,8,9,10]\n",
        "names = glob.glob(\"/content/*.csv\")\n",
        "MAP_list = []\n",
        "model_names_list = []\n",
        "\n",
        "for i in lengths:\n",
        "  MAP_i = []\n",
        "  model_names = []\n",
        "  for item in names:\n",
        "        model_names.append(item.split(\"/\")[-1][:-4])\n",
        "        score = evaluate_query_length(item,max_query_length = i)\n",
        "        MAP_i.append(score)\n",
        "\n",
        "  MAP_list.append(MAP_i)\n",
        "  model_names_list.append(model_names)\n",
        "\n",
        "print(MAP_list)\n",
        "print(model_names_list)\n",
        "\n",
        "print(MAP_list[0])\n",
        "\n",
        "MAP_list = [[0.6235472398738997, 0.6247510685007935, 0.6348874840778355, 0.6623718197688621, 0.5781252658892787, 0.5796896440736711, 0.6046490880611738], [0.19185203630651326, 0.20070253822824788, 0.2335844740527547, 0.35154817529128096, 0.13794516046915492, 0.14530523093554315, 0.2137070244847143], [0.2098530052085941, 0.2719865697233576, 0.34929556125292727, 0.515297952694101, 0.1672126096723282, 0.1962486509876309, 0.2788319230785297], [0.24758682923610317, 0.32310005302202405, 0.351967354120808, 0.49850395797561237, 0.20925242110576592, 0.19339774804420434, 0.32824665713865625], [0.3112890293378375, 0.39379009980151786, 0.33549719529042066, 0.6916926706491134, 0.15291112117686215, 0.17703969892704788, 0.2636483404142413], [0.24986324491650358, 0.2696583376279942, 0.3818210764613805, 0.5264766110032207, 0.24696148387995218, 0.1811941433963984, 0.43980631061958997], [0.10088586019525358, 0.30257332885622723, 0.3774090835786766, 0.7598989719588956, 0.11666354191228108, 0.09825970830587501, 0.18975954610384654], [0.20017384765065013, 0.3318206872735976, 0.25285113515934077, 0.5104386029470931, 0.13902848974644905, 0.12149414470286922, 0.2086177548372954], [0.0, 0.0, 0.0, 0.0, 0.0, 0.0, 0.0], [0.0, 0.0, 0.0, 0.0, 0.0, 0.0, 0.0]]\n",
        "model_names_list = [['Google_cos_reranked', 'Google_WMD_reranked', 'Pubmed_WMD_reranked', 'BM25_baseline', 'Scratch_WMD_reranked', 'Scratch_cos_reranked', 'Pubmed_cos_reranked'], ['Google_cos_reranked', 'Google_WMD_reranked', 'Pubmed_WMD_reranked', 'BM25_baseline', 'Scratch_WMD_reranked', 'Scratch_cos_reranked', 'Pubmed_cos_reranked'], ['Google_cos_reranked', 'Google_WMD_reranked', 'Pubmed_WMD_reranked', 'BM25_baseline', 'Scratch_WMD_reranked', 'Scratch_cos_reranked', 'Pubmed_cos_reranked'], ['Google_cos_reranked', 'Google_WMD_reranked', 'Pubmed_WMD_reranked', 'BM25_baseline', 'Scratch_WMD_reranked', 'Scratch_cos_reranked', 'Pubmed_cos_reranked'], ['Google_cos_reranked', 'Google_WMD_reranked', 'Pubmed_WMD_reranked', 'BM25_baseline', 'Scratch_WMD_reranked', 'Scratch_cos_reranked', 'Pubmed_cos_reranked'], ['Google_cos_reranked', 'Google_WMD_reranked', 'Pubmed_WMD_reranked', 'BM25_baseline', 'Scratch_WMD_reranked', 'Scratch_cos_reranked', 'Pubmed_cos_reranked'], ['Google_cos_reranked', 'Google_WMD_reranked', 'Pubmed_WMD_reranked', 'BM25_baseline', 'Scratch_WMD_reranked', 'Scratch_cos_reranked', 'Pubmed_cos_reranked'], ['Google_cos_reranked', 'Google_WMD_reranked', 'Pubmed_WMD_reranked', 'BM25_baseline', 'Scratch_WMD_reranked', 'Scratch_cos_reranked', 'Pubmed_cos_reranked'], ['Google_cos_reranked', 'Google_WMD_reranked', 'Pubmed_WMD_reranked', 'BM25_baseline', 'Scratch_WMD_reranked', 'Scratch_cos_reranked', 'Pubmed_cos_reranked'], ['Google_cos_reranked', 'Google_WMD_reranked', 'Pubmed_WMD_reranked', 'BM25_baseline', 'Scratch_WMD_reranked', 'Scratch_cos_reranked', 'Pubmed_cos_reranked']]\n",
        "\n",
        "\n",
        "x = np.arange(len(MAP_list[0]))  # the label locations\n",
        "width = 0.10  # the width of the bars\n",
        "\n",
        "plt.figure()\n",
        "\n",
        "plt.bar(x-width, MAP_list[0], width, color='palegreen')\n",
        "plt.bar(x, MAP_list[1], width, color='lightgreen')\n",
        "plt.bar(x+1*width, MAP_list[2], width, color='lawngreen')\n",
        "plt.bar(x+2*width, MAP_list[3], width, color='yellowgreen')\n",
        "plt.bar(x+3*width, MAP_list[4], width, color='olivedrab')\n",
        "plt.bar(x+4*width, MAP_list[5], width, color='olive')\n",
        "plt.bar(x+5*width, MAP_list[6], width, color='darkolivegreen')\n",
        "plt.bar(x+6*width, MAP_list[7], width, color='darkgreen')\n",
        "plt.bar(x+7*width, MAP_list[8], width, color='darkslategray')\n",
        "plt.bar(x+7*width, MAP_list[9], width, color='black')\n",
        "\n",
        "# Add some text for labels, title and custom x-axis tick labels, etc.\n",
        "plt.ylabel('MAP')\n",
        "plt.xlabel('Model')\n",
        "plt.title('Mean Average Precision for different query lengths')\n",
        "plt.xticks(x, model_names_list[0], rotation = 80)\n",
        "plt.legend(lengths,bbox_to_anchor=(1.0, 1.0),shadow=True,title=\"length of queries\")\n",
        "\n",
        "# ax.bar_label(rects1, padding=3)\n",
        "# ax.bar_label(rects2, padding=3)\n",
        "\n",
        "plt.show()\n",
        "\n",
        "\n",
        "\n"
      ],
      "metadata": {
        "colab": {
          "base_uri": "https://localhost:8080/",
          "height": 407
        },
        "id": "qLxaU3Mnk_2o",
        "outputId": "a90805d3-f9c4-487b-8d8c-d6883991401b"
      },
      "execution_count": null,
      "outputs": [
        {
          "output_type": "display_data",
          "data": {
            "image/png": "[encoded data removed]",
            "text/plain": [
              "<Figure size 432x288 with 1 Axes>"
            ]
          },
          "metadata": {
            "needs_background": "light"
          }
        }
      ]
    }
  ]
}